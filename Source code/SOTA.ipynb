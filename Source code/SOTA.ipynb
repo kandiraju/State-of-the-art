{
 "cells": [
  {
   "cell_type": "code",
   "execution_count": 1,
   "metadata": {},
   "outputs": [
    {
     "name": "stdout",
     "output_type": "stream",
     "text": [
      "D:\\sota\\CV.csv\n",
      "D:\\sota\\cv_accuracy.csv\n",
      "D:\\sota\\NLP.csv\n",
      "D:\\sota\\nlp_accuracy.csv\n",
      "D:\\sota\\REPORT.csv\n",
      "D:\\sota\\SOTA_ComputerVision.csv\n",
      "D:\\sota\\SOTA_ComputerVision_FALSE.csv\n",
      "D:\\sota\\SOTA_ComputerVision_TRUE.csv\n",
      "D:\\sota\\SOTA_NLP.csv\n",
      "D:\\sota\\SOTA_NLP_FALSE.csv\n",
      "D:\\sota\\SOTA_NLP_TRUE.csv\n",
      "D:\\sota\\SOTA_OriginalData.csv\n",
      "D:\\sota\\SOTA_RAW (NLP, CV).csv\n"
     ]
    }
   ],
   "source": [
    "import pandas as pd\n",
    "import numpy as np\n",
    "from pandas import Series,DataFrame\n",
    "import os\n",
    "os.chdir('D:\\\\sota\\\\')\n",
    "dir = 'D:\\\\sota\\\\'\n",
    "# to list all the files in the current directory\n",
    "def fr(dir):\n",
    "    filelist = os.listdir(dir)\n",
    "    for i in filelist:\n",
    "        fullfile = os.path.join(dir, i)\n",
    "        if not os.path.isdir(fullfile):\n",
    "            print(fullfile)\n",
    "fr(dir)"
   ]
  },
  {
   "cell_type": "code",
   "execution_count": 117,
   "metadata": {},
   "outputs": [
    {
     "name": "stdout",
     "output_type": "stream",
     "text": [
      "<class 'pandas.core.frame.DataFrame'>\n",
      "RangeIndex: 22 entries, 0 to 21\n",
      "Data columns (total 15 columns):\n",
      "Area                                  22 non-null object\n",
      "Parent Task                           22 non-null object\n",
      "Task                                  22 non-null object\n",
      "Dataset                               22 non-null object\n",
      "Best method name                      22 non-null object\n",
      "Primary metric                        22 non-null object\n",
      "Primary metric - is higher better?    22 non-null bool\n",
      "Metric first reported value           22 non-null float64\n",
      "2013                                  1 non-null float64\n",
      "2014                                  1 non-null float64\n",
      "2015                                  6 non-null float64\n",
      "2016                                  13 non-null float64\n",
      "2017                                  18 non-null float64\n",
      "2018                                  21 non-null float64\n",
      "2019                                  22 non-null float64\n",
      "dtypes: bool(1), float64(8), object(6)\n",
      "memory usage: 2.5+ KB\n"
     ]
    }
   ],
   "source": [
    "df = pd.read_csv(\"SOTA_NLP_FALSE.csv\")\n",
    "df.info()"
   ]
  },
  {
   "cell_type": "code",
   "execution_count": 118,
   "metadata": {},
   "outputs": [],
   "source": [
    "# Remove all the independent columns by selecting the indicators\n",
    "indicators_data = df[df.columns[7:15]]\n",
    "indicators_data.head()\n",
    "\n",
    "# Taking a separate dataset for independent columns for future reference\n",
    "independent_data = df[df.columns[0:6]]\n",
    "#independent_data.head()"
   ]
  },
  {
   "cell_type": "code",
   "execution_count": 119,
   "metadata": {},
   "outputs": [
    {
     "name": "stderr",
     "output_type": "stream",
     "text": [
      "C:\\Users\\KANDIRAJU\\Anaconda3\\lib\\site-packages\\ipykernel_launcher.py:4: SettingWithCopyWarning: \n",
      "A value is trying to be set on a copy of a slice from a DataFrame.\n",
      "Try using .loc[row_indexer,col_indexer] = value instead\n",
      "\n",
      "See the caveats in the documentation: http://pandas.pydata.org/pandas-docs/stable/indexing.html#indexing-view-versus-copy\n",
      "  after removing the cwd from sys.path.\n"
     ]
    }
   ],
   "source": [
    "# Harmonizing the data and scaling from  to 100\n",
    "for col in indicators_data:\n",
    "    col_norm_score = col+' scaled'\n",
    "    indicators_data[col_norm_score] =(indicators_data[col]-indicators_data[col].min())/(indicators_data[col].max()-indicators_data[col].min())*100\n",
    "scaled_data = pd.DataFrame(indicators_data)"
   ]
  },
  {
   "cell_type": "code",
   "execution_count": 120,
   "metadata": {},
   "outputs": [],
   "source": [
    "scaled_data.to_csv(\"D:\\\\sota\\\\OutputFiles\\\\SOTA_NLP_FALSE_ScaledData.csv\", index = False)\n",
    "independent_data.to_csv(\"D:\\\\sota\\\\OutputFiles\\\\SOTA_NLP_FALSE_independent_data.csv\", index = False)"
   ]
  },
  {
   "cell_type": "code",
   "execution_count": null,
   "metadata": {},
   "outputs": [],
   "source": []
  }
 ],
 "metadata": {
  "kernelspec": {
   "display_name": "Python 3",
   "language": "python",
   "name": "python3"
  },
  "language_info": {
   "codemirror_mode": {
    "name": "ipython",
    "version": 3
   },
   "file_extension": ".py",
   "mimetype": "text/x-python",
   "name": "python",
   "nbconvert_exporter": "python",
   "pygments_lexer": "ipython3",
   "version": "3.7.1"
  }
 },
 "nbformat": 4,
 "nbformat_minor": 2
}
